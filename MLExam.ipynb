{
 "cells": [
  {
   "cell_type": "code",
   "execution_count": null,
   "id": "872a9475",
   "metadata": {},
   "outputs": [],
   "source": [
    "import numpy as np\n",
    "import pandas as pd\n",
    "import matplotlib.pyplot as plt\n",
    "import seaborn as sns\n",
    "from sklearn.model_selection import train_test_split\n",
    "from sklearn import preprocessing\n",
    "from sklearn.preprocessing import StandardScaler\n",
    "from sklearn.pipeline import Pipeline\n",
    "from sklearn.linear_model import LogisticRegression\n",
    "from sklearn.tree import DecisionTreeClassifier\n",
    "from sklearn.ensemble import RandomForestClassifier\n",
    "from sklearn.ensemble import RandomForestRegressor\n",
    "from sklearn.svm import SVC\n",
    "from sklearn.svm import LinearSVC\n",
    "from sklearn.model_selection import GridSearchCV\n",
    "from sklearn.model_selection import cross_val_score\n",
    "from sklearn.metrics import precision_score, recall_score, confusion_matrix, classification_report, accuracy_score, f1_score\n",
    "from sklearn import metrics\n",
    "from sklearn.metrics import roc_curve, auc, roc_auc_score\n",
    "import os"
   ]
  },
  {
   "cell_type": "code",
   "execution_count": null,
   "id": "54f9a72f",
   "metadata": {},
   "outputs": [],
   "source": [
    "GOLD_PATH = os.path.join(\"datasets\", \"gold\")\n",
    "\n",
    "def load_gold_data(gold_path=GOLD_PATH):\n",
    "    csv_path = os.path.join(gold_path,\"Gold_Yearly.csv\")\n",
    "    return pd.read_csv(csv_path)"
   ]
  },
  {
   "cell_type": "code",
   "execution_count": null,
   "id": "02997a0e",
   "metadata": {},
   "outputs": [],
   "source": [
    "gold = load_gold_data()\n",
    "\n",
    "gold.head()"
   ]
  },
  {
   "cell_type": "code",
   "execution_count": null,
   "id": "0a4ec859",
   "metadata": {},
   "outputs": [],
   "source": [
    "gold.info()"
   ]
  },
  {
   "cell_type": "code",
   "execution_count": null,
   "id": "196b1e1a",
   "metadata": {},
   "outputs": [],
   "source": [
    "gold.describe().T"
   ]
  },
  {
   "cell_type": "code",
   "execution_count": null,
   "id": "11858a53",
   "metadata": {},
   "outputs": [],
   "source": [
    "colours = [\"#f7b2b0\", \"#8f7198\", \"#003f5c\"]\n",
    "sns.countplot(data=gold, x=\"Year Close\", palette=colours)"
   ]
  },
  {
   "cell_type": "code",
   "execution_count": null,
   "id": "fd62311c",
   "metadata": {},
   "outputs": [],
   "source": [
    "corrmat = gold.corr()\n",
    "plt.figure(figsize=(15, 15))\n",
    "\n",
    "cmap = sns.diverging_palette(250, 10, s=80, l=55, n=9, as_cmap=True)\n",
    "\n",
    "sns.heatmap(corrmat, annot=True, cmap=cmap, center=0)"
   ]
  },
  {
   "cell_type": "code",
   "execution_count": null,
   "id": "97fe0e5c",
   "metadata": {},
   "outputs": [],
   "source": [
    "cols = ['Year Open', 'Year High', 'Year Low', 'Year Close']\n",
    "for i in cols:\n",
    "    sns.stripplot(x=gold[\"Year\"], y=gold[i], color=\"black\", alpha=0.25)\n",
    "    sns.boxenplot(x=gold[\"Year\"], y=gold[i], palette=colours)\n",
    "    plt.show()\n"
   ]
  },
  {
   "cell_type": "code",
   "execution_count": null,
   "id": "e6fae2a5",
   "metadata": {},
   "outputs": [],
   "source": [
    "shades = [\"#f7b2b0\", \"#c98ea6\", \"#8f7198\", \"#50587f\", \"#003f5c\"]\n",
    "plt.figure(figsize=(20, 10))\n",
    "sns.boxenplot(data=gold, palette=shades)\n",
    "plt.xticks(rotation=90)\n",
    "plt.show()"
   ]
  },
  {
   "cell_type": "code",
   "execution_count": null,
   "id": "e004dc05",
   "metadata": {},
   "outputs": [],
   "source": [
    "X = gold.drop([\"Year High\"], axis=1)\n",
    "y = gold[\"Year High\"]\n",
    "\n",
    "#Set up a standard scaler for the features\n",
    "col_names = list(X.columns)\n",
    "s_scaler = preprocessing.StandardScaler()\n",
    "X_df = s_scaler.fit_transform(X)\n",
    "X_df = pd.DataFrame(X_df, columns=col_names)\n",
    "X_df.describe().T"
   ]
  },
  {
   "cell_type": "code",
   "execution_count": null,
   "id": "0a1a0448",
   "metadata": {},
   "outputs": [],
   "source": [
    "plt.figure(figsize=(20, 10))\n",
    "sns.boxenplot(data=X_df, palette=shades)\n",
    "plt.xticks(rotation=90)\n",
    "plt.show()"
   ]
  },
  {
   "cell_type": "code",
   "execution_count": null,
   "id": "a994fcb9",
   "metadata": {},
   "outputs": [],
   "source": [
    "X_train, X_test, y_train, y_test = train_test_split(X_df, y, test_size=0.3, random_state=42)\n",
    "\n",
    "pipeline_rf = Pipeline([('rf_classifier', RandomForestRegressor())])\n",
    "\n",
    "pipeline_rf.fit(X_train, y_train)\n",
    "\n",
    "cv_score = cross_val_score(pipeline_rf, X_train, y_train, cv=10)\n",
    "print(\"RandomForest: %f \" % (cv_score.mean()))\n"
   ]
  },
  {
   "cell_type": "code",
   "execution_count": null,
   "id": "e8de237f",
   "metadata": {},
   "outputs": [],
   "source": [
    "parameters = {\n",
    "    'n_estimators': [100, 150, 200, 500, 700, 900],\n",
    "    'max_features': ['auto', 'sqrt', 'log2'],\n",
    "    'max_depth': [4, 6, 8, 12, 14, 16],\n",
    "    'criterion': ['gini', 'entropy'],\n",
    "    'n_jobs': [-1, 1, None]\n",
    "}\n",
    "\n",
    "#Fitting the trainingset to find parameters with best accuracy\n",
    "\n",
    "CV_rfc = GridSearchCV(estimator=RandomForestRegressor(), param_grid=parameters, cv=5)\n",
    "CV_rfc.fit(X_train, y_train)\n",
    "\n",
    "#Getting the outcome of gridsearch\n",
    "\n",
    "CV_rfc.best_params_"
   ]
  },
  {
   "cell_type": "code",
   "execution_count": null,
   "id": "1b563a9d",
   "metadata": {},
   "outputs": [],
   "source": [
    "RF_model = RandomForestRegressor(**CV_rfc.best_params_)\n",
    "RF_model.fit(X_train, y_train)\n",
    "#Testing the Model on test set\n",
    "predictions = RF_model.predict(X_test)\n",
    "acccuracy = accuracy_score(y_test, predictions)\n",
    "acccuracy"
   ]
  },
  {
   "cell_type": "code",
   "execution_count": null,
   "id": "6bfbed48",
   "metadata": {},
   "outputs": [],
   "source": [
    "acccuracy = accuracy_score(y_test, predictions)\n",
    "recall = recall_score(y_test, predictions, average=\"weighted\")\n",
    "precision = precision_score(y_test, predictions, average=\"weighted\")\n",
    "f1_score = f1_score(y_test, predictions, average=\"micro\")\n",
    "\n",
    "print(\"********* Random Forest Results *********\")\n",
    "print(\"Accuracy    : \", acccuracy)\n",
    "print(\"Recall      : \", recall)\n",
    "print(\"Precision   : \", precision)\n",
    "print(\"F1 Score    : \", f1_score)"
   ]
  },
  {
   "cell_type": "code",
   "execution_count": null,
   "id": "565007df",
   "metadata": {},
   "outputs": [],
   "source": [
    "print(classification_report(y_test, predictions))"
   ]
  },
  {
   "cell_type": "code",
   "execution_count": null,
   "id": "1d7a6d3e",
   "metadata": {},
   "outputs": [],
   "source": []
  }
 ],
 "metadata": {
  "kernelspec": {
   "display_name": "Python 3 (ipykernel)",
   "language": "python",
   "name": "python3"
  },
  "language_info": {
   "codemirror_mode": {
    "name": "ipython",
    "version": 3
   },
   "file_extension": ".py",
   "mimetype": "text/x-python",
   "name": "python",
   "nbconvert_exporter": "python",
   "pygments_lexer": "ipython3",
   "version": "3.7.2"
  }
 },
 "nbformat": 4,
 "nbformat_minor": 5
}
